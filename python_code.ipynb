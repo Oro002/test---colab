{
  "nbformat": 4,
  "nbformat_minor": 0,
  "metadata": {
    "colab": {
      "name": "python code.ipynb",
      "provenance": [],
      "authorship_tag": "ABX9TyPH+whlrBssbheGhttpg+ST",
      "include_colab_link": true
    },
    "kernelspec": {
      "name": "python3",
      "display_name": "Python 3"
    },
    "language_info": {
      "name": "python"
    }
  },
  "cells": [
    {
      "cell_type": "markdown",
      "metadata": {
        "id": "view-in-github",
        "colab_type": "text"
      },
      "source": [
        "<a href=\"https://colab.research.google.com/github/Oro002/test---colab/blob/main/python_code.ipynb\" target=\"_parent\"><img src=\"https://colab.research.google.com/assets/colab-badge.svg\" alt=\"Open In Colab\"/></a>"
      ]
    },
    {
      "cell_type": "code",
      "metadata": {
        "id": "q-2FFlugUvT0",
        "colab": {
          "base_uri": "https://localhost:8080/"
        },
        "outputId": "abc29c6d-b205-4c6f-e4cf-0193d40c29a2"
      },
      "source": [
        "print('Hello World')"
      ],
      "execution_count": 1,
      "outputs": [
        {
          "output_type": "stream",
          "name": "stdout",
          "text": [
            "Hello World\n"
          ]
        }
      ]
    },
    {
      "cell_type": "code",
      "metadata": {
        "id": "PU18BPnDZEB0"
      },
      "source": [
        "import sys"
      ],
      "execution_count": 2,
      "outputs": []
    }
  ]
}
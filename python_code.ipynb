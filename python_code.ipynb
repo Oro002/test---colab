{
  "nbformat": 4,
  "nbformat_minor": 0,
  "metadata": {
    "colab": {
      "name": "python code.ipynb",
      "provenance": [],
      "authorship_tag": "ABX9TyPPH5bfI1svlvgpDy6x9iho",
      "include_colab_link": true
    },
    "kernelspec": {
      "name": "python3",
      "display_name": "Python 3"
    },
    "language_info": {
      "name": "python"
    }
  },
  "cells": [
    {
      "cell_type": "markdown",
      "metadata": {
        "id": "view-in-github",
        "colab_type": "text"
      },
      "source": [
        "<a href=\"https://colab.research.google.com/github/Oro002/test---colab/blob/main/python_code.ipynb\" target=\"_parent\"><img src=\"https://colab.research.google.com/assets/colab-badge.svg\" alt=\"Open In Colab\"/></a>"
      ]
    },
    {
      "cell_type": "code",
      "metadata": {
        "id": "q-2FFlugUvT0",
        "colab": {
          "base_uri": "https://localhost:8080/"
        },
        "outputId": "abc29c6d-b205-4c6f-e4cf-0193d40c29a2"
      },
      "source": [
        "print('Hello World')"
      ],
      "execution_count": null,
      "outputs": [
        {
          "output_type": "stream",
          "name": "stdout",
          "text": [
            "Hello World\n"
          ]
        }
      ]
    },
    {
      "cell_type": "code",
      "metadata": {
        "id": "yhO1KxmgZXb-"
      },
      "source": [
        "import sys"
      ],
      "execution_count": null,
      "outputs": []
    },
    {
      "cell_type": "code",
      "metadata": {
        "id": "kW54Cw2TbuAA",
        "outputId": "c372b0c2-f4ce-450d-f946-32874f422b79",
        "colab": {
          "base_uri": "https://localhost:8080/"
        }
      },
      "source": [
        "print(sys.version.split()[0])"
      ],
      "execution_count": 4,
      "outputs": [
        {
          "output_type": "stream",
          "name": "stdout",
          "text": [
            "3.7.12\n"
          ]
        }
      ]
    },
    {
      "cell_type": "code",
      "metadata": {
        "id": "I-nd_0Qgbuet"
      },
      "source": [
        "def calculate();\n",
        "  numbers=[]\n",
        "  for i in range (100):\n",
        "    if i%5==0 or i%7==0"
      ],
      "execution_count": null,
      "outputs": []
    }
  ]
}